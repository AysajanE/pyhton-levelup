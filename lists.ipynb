{
 "cells": [
  {
   "cell_type": "code",
   "execution_count": 27,
   "metadata": {},
   "outputs": [
    {
     "name": "stdout",
     "output_type": "stream",
     "text": [
      "['banana', 'apple', 'pear']\n"
     ]
    }
   ],
   "source": [
    "# Lists: ordered, mutable, allows duplicate elements and different data types\n",
    "mylist = [\"banana\", \"apple\", \"pear\"]\n",
    "print(mylist)"
   ]
  },
  {
   "cell_type": "code",
   "execution_count": 21,
   "metadata": {},
   "outputs": [
    {
     "name": "stdout",
     "output_type": "stream",
     "text": [
      "[5, True, 'Apple', 'Apple']\n"
     ]
    }
   ],
   "source": [
    "mylist2 = [5, True, \"Apple\", \"Apple\"]\n",
    "print(mylist2)"
   ]
  },
  {
   "cell_type": "code",
   "execution_count": 9,
   "metadata": {},
   "outputs": [
    {
     "name": "stdout",
     "output_type": "stream",
     "text": [
      "pear\n"
     ]
    }
   ],
   "source": [
    "# List index starts at zero\n",
    "# Negative index counts backward, for example index of -1 means last item\n",
    "item = mylist[-1]\n",
    "print(item)"
   ]
  },
  {
   "cell_type": "code",
   "execution_count": 10,
   "metadata": {},
   "outputs": [
    {
     "name": "stdout",
     "output_type": "stream",
     "text": [
      "banana\n",
      "apple\n",
      "pear\n"
     ]
    }
   ],
   "source": [
    "# Iterate through all elements\n",
    "for item in mylist:\n",
    "    print(item)"
   ]
  },
  {
   "cell_type": "code",
   "execution_count": 11,
   "metadata": {},
   "outputs": [
    {
     "name": "stdout",
     "output_type": "stream",
     "text": [
      "yes\n"
     ]
    }
   ],
   "source": [
    "# Check if an item is in the list\n",
    "if \"banana\" in mylist:\n",
    "    print(\"yes\")\n",
    "else:\n",
    "    print(\"no\")"
   ]
  },
  {
   "cell_type": "code",
   "execution_count": 12,
   "metadata": {},
   "outputs": [
    {
     "data": {
      "text/plain": [
       "3"
      ]
     },
     "execution_count": 12,
     "metadata": {},
     "output_type": "execute_result"
    }
   ],
   "source": [
    "# Check the number of elements in a list\n",
    "len(mylist)"
   ]
  },
  {
   "cell_type": "code",
   "execution_count": 13,
   "metadata": {},
   "outputs": [
    {
     "name": "stdout",
     "output_type": "stream",
     "text": [
      "['banana', 'apple', 'pear', 'lemon']\n"
     ]
    }
   ],
   "source": [
    "# Append an item to a list\n",
    "mylist.append(\"lemon\")\n",
    "print(mylist)"
   ]
  },
  {
   "cell_type": "code",
   "execution_count": 14,
   "metadata": {},
   "outputs": [
    {
     "name": "stdout",
     "output_type": "stream",
     "text": [
      "['banana', 'apple', 'strawberry', 'pear', 'lemon']\n"
     ]
    }
   ],
   "source": [
    "# Insert item to a specifis position in a list\n",
    "mylist.insert(2, \"strawberry\")\n",
    "print(mylist)"
   ]
  },
  {
   "cell_type": "code",
   "execution_count": 15,
   "metadata": {},
   "outputs": [
    {
     "name": "stdout",
     "output_type": "stream",
     "text": [
      "lemon\n",
      "['banana', 'apple', 'strawberry', 'pear']\n"
     ]
    }
   ],
   "source": [
    "# Remove an item using \"pop\" method, which removes the very last item in the list\n",
    "# Pop method returns the item and removes it from the original list\n",
    "item = mylist.pop()\n",
    "print(item)\n",
    "print(mylist)"
   ]
  },
  {
   "cell_type": "code",
   "execution_count": 19,
   "metadata": {},
   "outputs": [
    {
     "name": "stdout",
     "output_type": "stream",
     "text": [
      "['banana', 'pear']\n"
     ]
    }
   ],
   "source": [
    "# We can remove a specific element using \"remove\" method\n",
    "# pop vs. remove\n",
    "#### pop: removes very last element from the list\n",
    "#### remove: removes an element we specify\n",
    "mylist.remove(\"apple\") # if the element we want to remove is not in the list, we get ValueError\n",
    "print(mylist)"
   ]
  },
  {
   "cell_type": "code",
   "execution_count": 20,
   "metadata": {},
   "outputs": [
    {
     "name": "stdout",
     "output_type": "stream",
     "text": [
      "[]\n"
     ]
    }
   ],
   "source": [
    "# Remove all elements in a list using \"clear\" method\n",
    "mylist.clear()\n",
    "print(mylist)"
   ]
  },
  {
   "cell_type": "code",
   "execution_count": 25,
   "metadata": {},
   "outputs": [
    {
     "name": "stdout",
     "output_type": "stream",
     "text": [
      "['banana', 'apple', 'pear']\n",
      "None\n"
     ]
    }
   ],
   "source": [
    "# Reverse the list using \"reverse\" method\n",
    "item = mylist.reverse()\n",
    "print(mylist)\n",
    "print(item)"
   ]
  },
  {
   "cell_type": "code",
   "execution_count": 26,
   "metadata": {},
   "outputs": [
    {
     "name": "stdout",
     "output_type": "stream",
     "text": [
      "['apple', 'banana', 'pear']\n"
     ]
    }
   ],
   "source": [
    "# Sort a list using \"sort\" method\n",
    "# Be careful: sort method will change the original list\n",
    "mylist.sort()\n",
    "print(mylist)"
   ]
  },
  {
   "cell_type": "code",
   "execution_count": 28,
   "metadata": {},
   "outputs": [
    {
     "name": "stdout",
     "output_type": "stream",
     "text": [
      "['apple', 'banana', 'pear']\n"
     ]
    }
   ],
   "source": [
    "# If you don't want to change the original list, you can do\n",
    "new_list = sorted(mylist)\n",
    "print(new_list)"
   ]
  },
  {
   "cell_type": "code",
   "execution_count": 30,
   "metadata": {},
   "outputs": [
    {
     "name": "stdout",
     "output_type": "stream",
     "text": [
      "[0, 0, 0, 0, 0]\n"
     ]
    }
   ],
   "source": [
    "# Create a list with the same values\n",
    "mylist3 = [0] * 5\n",
    "print(mylist3)"
   ]
  },
  {
   "cell_type": "code",
   "execution_count": 31,
   "metadata": {},
   "outputs": [
    {
     "name": "stdout",
     "output_type": "stream",
     "text": [
      "['banana', 'apple', 'pear', 5, True, 'Apple', 'Apple']\n"
     ]
    }
   ],
   "source": [
    "# Concatenate lists using \"+\" operator\n",
    "new_list = mylist + mylist2\n",
    "print(new_list)"
   ]
  },
  {
   "cell_type": "code",
   "execution_count": 33,
   "metadata": {},
   "outputs": [
    {
     "name": "stdout",
     "output_type": "stream",
     "text": [
      "[2, 3, 4, 5] [1, 2, 3, 4, 5] [2, 3, 4, 5, 6, 7, 8, 9]\n"
     ]
    }
   ],
   "source": [
    "# List slicing\n",
    "mylist = [1, 2, 3, 4, 5, 6, 7, 8, 9]\n",
    "a1 = mylist[1:5] # includes starting index but excludes ending index\n",
    "a2 = mylist[:5]\n",
    "a3 = mylist[1:]\n",
    "print(a1, a2, a3)"
   ]
  },
  {
   "cell_type": "code",
   "execution_count": 34,
   "metadata": {},
   "outputs": [
    {
     "name": "stdout",
     "output_type": "stream",
     "text": [
      "[2, 4]\n"
     ]
    }
   ],
   "source": [
    "# Specify step sizes in list slicing, default step size is 1\n",
    "a4 = mylist[1:5:2] #step size of 2\n",
    "print(a4)"
   ]
  },
  {
   "cell_type": "code",
   "execution_count": 35,
   "metadata": {},
   "outputs": [
    {
     "name": "stdout",
     "output_type": "stream",
     "text": [
      "[9, 8, 7, 6, 5, 4, 3, 2, 1]\n"
     ]
    }
   ],
   "source": [
    "# Nice trick to reverse a list\n",
    "a5 = mylist[::-1]\n",
    "print(a5)"
   ]
  },
  {
   "cell_type": "code",
   "execution_count": 38,
   "metadata": {},
   "outputs": [
    {
     "name": "stdout",
     "output_type": "stream",
     "text": [
      "['banana', 'apple', 'cherry']\n",
      "['banana', 'apple', 'cherry', 'lemon']\n",
      "['banana', 'apple', 'cherry', 'lemon']\n"
     ]
    }
   ],
   "source": [
    "# Copy a list\n",
    "list_org = [\"banana\", \"apple\", \"cherry\"]\n",
    "list_cpy = list_org\n",
    "print(list_cpy)\n",
    "list_cpy.append(\"lemon\")\n",
    "print(list_cpy)\n",
    "print(list_org)\n",
    "# So, the danger here is that both list_cpy and list_org are directing to the same list in the memory,\n",
    "# and if change one, then the other will change too. In most cases this is not what we want,\n",
    "# we simply want a copy of an original list"
   ]
  },
  {
   "cell_type": "code",
   "execution_count": 40,
   "metadata": {},
   "outputs": [
    {
     "name": "stdout",
     "output_type": "stream",
     "text": [
      "['banana', 'apple', 'cherry', 'lemon'] ['banana', 'apple', 'cherry', 'lemon'] ['banana', 'apple', 'cherry', 'lemon']\n",
      "['banana', 'apple', 'cherry', 'lemon', 'blurberry'] ['banana', 'apple', 'cherry', 'lemon', 'orange'] ['banana', 'apple', 'cherry', 'lemon']\n"
     ]
    }
   ],
   "source": [
    "# Copy a list without pointing to the same address as the original list\n",
    "# Three ways of doing it\n",
    "# Approahc 1: use \"copy\" method\n",
    "list_cpy = list_org.copy()\n",
    "# Approach #2: use \"list\"\n",
    "list_cpy1 = list(list_org)\n",
    "# Aproach #3: use slicing\n",
    "list_cpy2 = list_org[:]\n",
    "\n",
    "print(list_cpy, list_cpy1, list_cpy2)\n",
    "list_cpy.append(\"blurberry\")\n",
    "list_cpy1.append(\"orange\")\n",
    "print(list_cpy, list_cpy1, list_org)"
   ]
  },
  {
   "cell_type": "code",
   "execution_count": 42,
   "metadata": {},
   "outputs": [
    {
     "name": "stdout",
     "output_type": "stream",
     "text": [
      "[1, 4, 9, 16, 25, 36, 49, 64, 81]\n"
     ]
    }
   ],
   "source": [
    "# List comprehension, a nice way to create new lists\n",
    "mylist_squared = [i*i for i in mylist]\n",
    "print(mylist_squared)"
   ]
  },
  {
   "cell_type": "code",
   "execution_count": null,
   "metadata": {},
   "outputs": [],
   "source": []
  }
 ],
 "metadata": {
  "kernelspec": {
   "display_name": "Python 3",
   "language": "python",
   "name": "python3"
  },
  "language_info": {
   "codemirror_mode": {
    "name": "ipython",
    "version": 3
   },
   "file_extension": ".py",
   "mimetype": "text/x-python",
   "name": "python",
   "nbconvert_exporter": "python",
   "pygments_lexer": "ipython3",
   "version": "3.7.7"
  }
 },
 "nbformat": 4,
 "nbformat_minor": 4
}
