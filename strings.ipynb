{
 "cells": [
  {
   "cell_type": "code",
   "execution_count": 2,
   "metadata": {},
   "outputs": [
    {
     "name": "stdout",
     "output_type": "stream",
     "text": [
      "Hello World\n",
      "Hello World\n"
     ]
    }
   ],
   "source": [
    "# Strings: ordered, immutable, text representation\n",
    "my_string = \"Hello World\" # double quotation\n",
    "print(my_string)\n",
    "my_string = 'Hello World' # single quotation\n",
    "print(my_string)"
   ]
  },
  {
   "cell_type": "code",
   "execution_count": 3,
   "metadata": {},
   "outputs": [
    {
     "name": "stdout",
     "output_type": "stream",
     "text": [
      "Hello\n",
      "World\n"
     ]
    }
   ],
   "source": [
    "# Use triple quotation for multiline string, it is also used for documentation\n",
    "my_string = \"\"\"Hello\n",
    "World\"\"\"\n",
    "print(my_string)"
   ]
  },
  {
   "cell_type": "code",
   "execution_count": 7,
   "metadata": {},
   "outputs": [
    {
     "name": "stdout",
     "output_type": "stream",
     "text": [
      "d\n"
     ]
    },
    {
     "ename": "TypeError",
     "evalue": "'str' object does not support item assignment",
     "output_type": "error",
     "traceback": [
      "\u001b[0;31m---------------------------------------------------------------------------\u001b[0m",
      "\u001b[0;31mTypeError\u001b[0m                                 Traceback (most recent call last)",
      "\u001b[0;32m<ipython-input-7-83b9f6effe57>\u001b[0m in \u001b[0;36m<module>\u001b[0;34m\u001b[0m\n\u001b[1;32m      4\u001b[0m \u001b[0;34m\u001b[0m\u001b[0m\n\u001b[1;32m      5\u001b[0m \u001b[0;31m# Can't do below because string is immutable:\u001b[0m\u001b[0;34m\u001b[0m\u001b[0;34m\u001b[0m\u001b[0;34m\u001b[0m\u001b[0m\n\u001b[0;32m----> 6\u001b[0;31m \u001b[0mmy_string\u001b[0m\u001b[0;34m[\u001b[0m\u001b[0;36m0\u001b[0m\u001b[0;34m]\u001b[0m \u001b[0;34m=\u001b[0m \u001b[0;34m'h'\u001b[0m\u001b[0;34m\u001b[0m\u001b[0;34m\u001b[0m\u001b[0m\n\u001b[0m",
      "\u001b[0;31mTypeError\u001b[0m: 'str' object does not support item assignment"
     ]
    }
   ],
   "source": [
    "my_string = \"Hello World\"\n",
    "char = my_string[-1]\n",
    "print(char)\n",
    "\n",
    "# Can't do below because string is immutable:\n",
    "my_string[0] = 'h'"
   ]
  },
  {
   "cell_type": "code",
   "execution_count": 9,
   "metadata": {},
   "outputs": [
    {
     "name": "stdout",
     "output_type": "stream",
     "text": [
      "ello\n",
      "dlroW olleH\n"
     ]
    }
   ],
   "source": [
    "# String slicing, same as lists and other types \n",
    "substring = my_string[1:5]\n",
    "print(substring)\n",
    "\n",
    "substring = my_string[::-1] # reverse a string\n",
    "print(substring)\n"
   ]
  },
  {
   "cell_type": "code",
   "execution_count": 11,
   "metadata": {},
   "outputs": [
    {
     "name": "stdout",
     "output_type": "stream",
     "text": [
      "Hello Tom\n"
     ]
    }
   ],
   "source": [
    "# Concatenate two strings with \"+\" sign\n",
    "greeting = \"Hello\"\n",
    "name = \"Tom\"\n",
    "sentence = greeting + \" \" + name\n",
    "print(sentence)"
   ]
  },
  {
   "cell_type": "code",
   "execution_count": 12,
   "metadata": {},
   "outputs": [
    {
     "name": "stdout",
     "output_type": "stream",
     "text": [
      "H\n",
      "e\n",
      "l\n",
      "l\n",
      "o\n"
     ]
    }
   ],
   "source": [
    "for char in greeting:\n",
    "    print(char)"
   ]
  },
  {
   "cell_type": "code",
   "execution_count": 13,
   "metadata": {},
   "outputs": [
    {
     "name": "stdout",
     "output_type": "stream",
     "text": [
      "yes\n"
     ]
    }
   ],
   "source": [
    "# Check if a character or substring is in a string\n",
    "if 'e' in greeting: # can check 'ell' as well\n",
    "    print(\"yes\")\n",
    "else:\n",
    "    print(\"no\")"
   ]
  },
  {
   "cell_type": "code",
   "execution_count": 6,
   "metadata": {},
   "outputs": [
    {
     "name": "stdout",
     "output_type": "stream",
     "text": [
      "   Hello World    \n",
      "Hello World\n",
      "HELLO WORLD\n",
      "hello world\n",
      "True\n",
      "False\n",
      "4\n",
      "3\n",
      "-1\n",
      "2\n",
      "Hello Universe\n"
     ]
    }
   ],
   "source": [
    "# String white spaces surrounding a string\n",
    "my_string = \"   Hello World    \"\n",
    "print(my_string)\n",
    "my_string = my_string.strip() #if we just write my_string.strip() w/o assignment, my_string will stay the same\n",
    "print(my_string)\n",
    "\n",
    "# Convert to all upper or lower cases\n",
    "print(my_string.upper())\n",
    "print(my_string.lower())\n",
    "\n",
    "print(my_string.startswith('Hello'))\n",
    "print(my_string.endswith('Hello'))\n",
    "\n",
    "# Find index of a character in a string\n",
    "print(my_string.find('o'))\n",
    "print(my_string.find('lo')) # find index of a substring as well\n",
    "print(my_string.find('pp')) #returns -1 if not found\n",
    "\n",
    "# Count the occurrences of a character\n",
    "print(my_string.count('o'))\n",
    "\n",
    "# Replace a character or substring in a string\n",
    "# If could not find that string, does nothing.\n",
    "print(my_string.replace('World', 'Universe')) # it will return a new string. original string does not change."
   ]
  },
  {
   "cell_type": "code",
   "execution_count": 10,
   "metadata": {},
   "outputs": [
    {
     "name": "stdout",
     "output_type": "stream",
     "text": [
      "['how', 'are', 'you', 'doing']\n",
      "['how', 'are', 'you', 'doing']\n",
      "howareyoudoing\n",
      "how are you doing\n"
     ]
    }
   ],
   "source": [
    "# Create a list from a string using \"split\"\n",
    "\n",
    "my_string = \"how are you doing\"\n",
    "my_list = my_string.split()\n",
    "print(my_list)\n",
    "\n",
    "# Default delimiter is white space \" \"; if something else is used as delimiter, then we specify inside \"split\"\n",
    "my_string = \"how,are,you,doing\"\n",
    "my_list = my_string.split(\",\")\n",
    "print(my_list)\n",
    "\n",
    "# Reverse back to string from list\n",
    "new_string = ''.join(my_list)\n",
    "print(new_string)\n",
    "\n",
    "# Add white space between words when reversing back to string from list\n",
    "new_string = ' '.join(my_list)\n",
    "print(new_string)"
   ]
  },
  {
   "cell_type": "code",
   "execution_count": 14,
   "metadata": {},
   "outputs": [
    {
     "name": "stdout",
     "output_type": "stream",
     "text": [
      "['a', 'a', 'a', 'a', 'a', 'a']\n",
      "0.00010985199992319394\n",
      "6.042800009709026e-05\n"
     ]
    }
   ],
   "source": [
    "# \"join\" method above is very useful\n",
    "from timeit import default_timer as timer\n",
    "my_list = ['a'] * 6\n",
    "print(my_list)\n",
    "\n",
    "# Bad python practice\n",
    "start = timer()\n",
    "my_string = ''\n",
    "for i in my_list:\n",
    "    my_string += i # bad because in each iteration, python will create a new string and assign it to my_string\n",
    "                    # very expensive operation\n",
    "stop = timer()\n",
    "print(stop-start)\n",
    "\n",
    "# Good python practice\n",
    "start = timer()\n",
    "my_string = ''.join(my_list)\n",
    "stop = timer()\n",
    "print(stop-start)"
   ]
  },
  {
   "cell_type": "code",
   "execution_count": 23,
   "metadata": {},
   "outputs": [
    {
     "name": "stdout",
     "output_type": "stream",
     "text": [
      "the variable is Tom\n",
      "The variable is 3\n",
      "The variable is 3.12\n",
      "The variable is 3.123456\n",
      "The variable is 3.12\n",
      "The variables are 3.12 and 6\n",
      "The variables are 3.123456 and 6.\n"
     ]
    }
   ],
   "source": [
    "# Format a string, there are two ways\n",
    "# Reference: https://docs.python.org/3/library/stdtypes.html#printf-style-string-formatting\n",
    "# Old style: % style\n",
    "var = \"Tom\"\n",
    "# Use \"%s\" for placeholder for string \n",
    "my_string = \"the variable is %s\" % var\n",
    "print(my_string)\n",
    "var = 3\n",
    "# Use \"%d\" for a placeholder for an integer decimal\n",
    "my_string = \"The variable is %d\" % var\n",
    "print(my_string)\n",
    "# Use \"%f\" for a placeholder for a floating point decimal\n",
    "# By default it it has six decimal points. If we want let's say two decimal points, we can specify using \"%.2f\"\n",
    "var = 3.123456\n",
    "my_string = \"The variable is %.2f\" % var\n",
    "print(my_string)\n",
    "\n",
    "# newer style: .format()\n",
    "my_string = \"The variable is {}\".format(var)\n",
    "print(my_string)\n",
    "# We can specify the number of digits we want\n",
    "my_string = \"The variable is {:.2f}\".format(var)\n",
    "print(my_string)\n",
    "\n",
    "# If we have more than one variables:\n",
    "var2 = 6\n",
    "my_string = \"The variables are {:.2f} and {}\".format(var, var2)\n",
    "print(my_string)\n",
    "\n",
    "#Newest style: f-strings\n",
    "my_string = f\"The variables are {var} and {var2}.\"\n",
    "print(my_string)"
   ]
  },
  {
   "cell_type": "code",
   "execution_count": null,
   "metadata": {},
   "outputs": [],
   "source": []
  }
 ],
 "metadata": {
  "kernelspec": {
   "display_name": "Python 3",
   "language": "python",
   "name": "python3"
  },
  "language_info": {
   "codemirror_mode": {
    "name": "ipython",
    "version": 3
   },
   "file_extension": ".py",
   "mimetype": "text/x-python",
   "name": "python",
   "nbconvert_exporter": "python",
   "pygments_lexer": "ipython3",
   "version": "3.7.7"
  }
 },
 "nbformat": 4,
 "nbformat_minor": 4
}
