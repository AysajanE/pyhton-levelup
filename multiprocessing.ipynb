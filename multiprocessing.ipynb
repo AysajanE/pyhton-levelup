{
 "cells": [
  {
   "cell_type": "code",
   "execution_count": 7,
   "metadata": {},
   "outputs": [
    {
     "name": "stdout",
     "output_type": "stream",
     "text": [
      "Number at the beginning is 0\n",
      "number at the end is 175\n"
     ]
    }
   ],
   "source": [
    "from multiprocessing import Process, Value, Array\n",
    "import time\n",
    "\n",
    "def add100(number):\n",
    "    for i in range(100):\n",
    "        time.sleep(0.01)\n",
    "        number.value += 1\n",
    "\n",
    "if __name__ == \"__main__\":\n",
    "    shared_number = Value('i', 0) # two arguments, data type (i for integer) and starting value \n",
    "    print(\"Number at the beginning is\", shared_number.value)\n",
    "    \n",
    "    p1 = Process(target=add100, args=(shared_number,))\n",
    "    p2 = Process(target=add100, args=(shared_number,))\n",
    "    \n",
    "    p1.start()\n",
    "    p2.start()\n",
    "    \n",
    "    p1.join()\n",
    "    p2.join()\n",
    "    \n",
    "    # Here the end value is not 200 most of the time. The reason is that race condition occurs;\n",
    "    # That is, two processing are trying to access or modify the same shared variable at the same time\n",
    "    print('number at the end is', shared_number.value)"
   ]
  },
  {
   "cell_type": "code",
   "execution_count": 11,
   "metadata": {},
   "outputs": [
    {
     "name": "stdout",
     "output_type": "stream",
     "text": [
      "Number at the beginning is 0\n",
      "number at the end is 200\n"
     ]
    }
   ],
   "source": [
    "# We can use 'Lock' module to prevent what happened in the above cell\n",
    "from multiprocessing import Process, Value, Array, Lock\n",
    "import time\n",
    "\n",
    "def add100(number, lock):\n",
    "    for i in range(100):\n",
    "        time.sleep(0.01)\n",
    "        with lock:\n",
    "            number.value += 1\n",
    "\n",
    "if __name__ == \"__main__\":\n",
    "    \n",
    "    lock = Lock()\n",
    "    shared_number = Value('i', 0) # two arguments, data type (i for integer) and starting value \n",
    "    print(\"Number at the beginning is\", shared_number.value)\n",
    "    \n",
    "    p1 = Process(target=add100, args=(shared_number,lock))\n",
    "    p2 = Process(target=add100, args=(shared_number,lock))\n",
    "    \n",
    "    p1.start()\n",
    "    p2.start()\n",
    "    \n",
    "    p1.join()\n",
    "    p2.join()\n",
    "    \n",
    "    # Here the end value is not 200 most of the time. The reason is that race condition occurs;\n",
    "    # That is, two processing are trying to access or modify the same shared variable at the same time\n",
    "    print('number at the end is', shared_number.value)"
   ]
  },
  {
   "cell_type": "code",
   "execution_count": 14,
   "metadata": {},
   "outputs": [
    {
     "name": "stdout",
     "output_type": "stream",
     "text": [
      "Array at the beginning is [0.0, 100.0, 200.0]\n",
      "Array at the end is [200.0, 300.0, 400.0]\n"
     ]
    }
   ],
   "source": [
    "# Now let's try to work on Array\n",
    "# We can use 'Lock' module to prevent what happened in the above cell\n",
    "from multiprocessing import Process, Value, Array, Lock\n",
    "import time\n",
    "\n",
    "def add100(numbers, lock):\n",
    "    for i in range(100):\n",
    "        time.sleep(0.01)\n",
    "        for i in range(len(numbers)):\n",
    "            with lock:\n",
    "                numbers[i] += 1\n",
    "\n",
    "if __name__ == \"__main__\":\n",
    "    \n",
    "    lock = Lock()\n",
    "    shared_array = Array('d', [0.0, 100.0, 200.0]) # two arguments, data type (d for double) and starting value \n",
    "    print(\"Array at the beginning is\", shared_array[:])\n",
    "    \n",
    "    p1 = Process(target=add100, args=(shared_array,lock))\n",
    "    p2 = Process(target=add100, args=(shared_array,lock))\n",
    "    \n",
    "    p1.start()\n",
    "    p2.start()\n",
    "    \n",
    "    p1.join()\n",
    "    p2.join()\n",
    "    \n",
    "    # Here the end value is not 200 most of the time. The reason is that race condition occurs;\n",
    "    # That is, two processing are trying to access or modify the same shared variable at the same time\n",
    "    print(\"Array at the end is\", shared_array[:])"
   ]
  },
  {
   "cell_type": "code",
   "execution_count": 19,
   "metadata": {},
   "outputs": [
    {
     "name": "stdout",
     "output_type": "stream",
     "text": [
      "1\n",
      "4\n",
      "9\n",
      "16\n",
      "25\n",
      "-1\n",
      "-2\n",
      "-3\n",
      "-4\n",
      "-5\n"
     ]
    }
   ],
   "source": [
    "# Queue\n",
    "from multiprocessing import Queue\n",
    "\n",
    "def square(numbers, queue):\n",
    "    for i in numbers:\n",
    "        queue.put(i*i)\n",
    "    \n",
    "def make_negative(numbers, queue):\n",
    "    for i in numbers:\n",
    "        queue.put(-1*i)\n",
    "\n",
    "if __name__ == \"__main__\":\n",
    "    \n",
    "    numbers = range(1, 6)\n",
    "    q = Queue()\n",
    "    \n",
    "    p1 = Process(target=square, args=(numbers, q))\n",
    "    p2 = Process(target=make_negative, args=(numbers, q))\n",
    "    \n",
    "    p1.start()\n",
    "    p2.start()\n",
    "    \n",
    "    p1.join()\n",
    "    p2.join()\n",
    "    \n",
    "    while not q.empty():\n",
    "        print(q.get())"
   ]
  },
  {
   "cell_type": "code",
   "execution_count": 20,
   "metadata": {},
   "outputs": [
    {
     "name": "stdout",
     "output_type": "stream",
     "text": [
      "[0, 1, 8, 27, 64, 125, 216, 343, 512, 729]\n"
     ]
    }
   ],
   "source": [
    "# Processing pool\n",
    "\n",
    "from multiprocessing import Pool\n",
    "\n",
    "def cube(number):\n",
    "    return number * number * number\n",
    "\n",
    "if __name__ == \"__main__\":\n",
    "    \n",
    "    numbers = range(10)\n",
    "    pool = Pool()\n",
    "    # four important methods to know with Pool: map, apply, join, close\n",
    "    result = pool.map(cube, numbers)\n",
    "    \n",
    "    pool.close()\n",
    "    pool.join()\n",
    "    \n",
    "    print(result)\n",
    "    "
   ]
  },
  {
   "cell_type": "code",
   "execution_count": null,
   "metadata": {},
   "outputs": [],
   "source": []
  }
 ],
 "metadata": {
  "kernelspec": {
   "display_name": "Python 3",
   "language": "python",
   "name": "python3"
  },
  "language_info": {
   "codemirror_mode": {
    "name": "ipython",
    "version": 3
   },
   "file_extension": ".py",
   "mimetype": "text/x-python",
   "name": "python",
   "nbconvert_exporter": "python",
   "pygments_lexer": "ipython3",
   "version": "3.7.7"
  }
 },
 "nbformat": 4,
 "nbformat_minor": 4
}
