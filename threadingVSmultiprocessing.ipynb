{
 "cells": [
  {
   "cell_type": "code",
   "execution_count": null,
   "metadata": {},
   "outputs": [],
   "source": [
    "# Process: An instance of a program (e.g., a Python intepreter)\n",
    "# Running a firefox browser is process\n",
    "\n",
    "# Threads: An entity within a process that can be scheduled; a process can spawn multiple threads\n",
    "# All threads within a process share the same memory\n",
    "\n",
    "# GIL: Global interpreter lock - a lock that allows only one thread at a time in Python"
   ]
  },
  {
   "cell_type": "code",
   "execution_count": 4,
   "metadata": {},
   "outputs": [
    {
     "name": "stdout",
     "output_type": "stream",
     "text": [
      "12\n"
     ]
    }
   ],
   "source": [
    "from multiprocessing import Process\n",
    "import os\n",
    "import time\n",
    "\n",
    "proceses = []\n",
    "num_processes = os.cpu_count()\n",
    "print(num_processes)"
   ]
  },
  {
   "cell_type": "code",
   "execution_count": 5,
   "metadata": {},
   "outputs": [
    {
     "name": "stdout",
     "output_type": "stream",
     "text": [
      "end main\n"
     ]
    }
   ],
   "source": [
    "def square_numbers():\n",
    "    for i in range(100):\n",
    "        i * i\n",
    "        time.sleep(0.1)\n",
    "        \n",
    "processes = []\n",
    "num_processes = os.cpu_count()\n",
    "\n",
    "# create processes\n",
    "for i in range(num_processes):\n",
    "    p = Process(target=square_numbers) #two arguments here, first one is 'target', which asks a function; second one is argument\n",
    "    processes.append(p)\n",
    "\n",
    "# Start\n",
    "for p in processes:\n",
    "    p.start()\n",
    "    \n",
    "# join\n",
    "for p in processes:\n",
    "    p.join()\n",
    "    \n",
    "print(\"end main\")\n",
    "    "
   ]
  },
  {
   "cell_type": "code",
   "execution_count": 7,
   "metadata": {},
   "outputs": [
    {
     "name": "stdout",
     "output_type": "stream",
     "text": [
      "end main\n"
     ]
    }
   ],
   "source": [
    "# Now, let's take a look at the thread\n",
    "from threading import Thread\n",
    "\n",
    "threads = []\n",
    "num_threads = 10\n",
    "\n",
    "# Create threads\n",
    "for i in range(num_threads):\n",
    "    t = Thread(target=square_numbers)\n",
    "    threads.append(t)\n",
    "    \n",
    "# Start\n",
    "for t in threads:\n",
    "    t.start()\n",
    "    \n",
    "# Join\n",
    "for t in threads:\n",
    "    t.join()\n",
    "    \n",
    "print('end main')\n"
   ]
  },
  {
   "cell_type": "code",
   "execution_count": null,
   "metadata": {},
   "outputs": [],
   "source": []
  }
 ],
 "metadata": {
  "kernelspec": {
   "display_name": "Python 3",
   "language": "python",
   "name": "python3"
  },
  "language_info": {
   "codemirror_mode": {
    "name": "ipython",
    "version": 3
   },
   "file_extension": ".py",
   "mimetype": "text/x-python",
   "name": "python",
   "nbconvert_exporter": "python",
   "pygments_lexer": "ipython3",
   "version": "3.7.7"
  }
 },
 "nbformat": 4,
 "nbformat_minor": 4
}
