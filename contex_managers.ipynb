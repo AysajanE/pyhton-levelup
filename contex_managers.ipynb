{
 "cells": [
  {
   "cell_type": "code",
   "execution_count": null,
   "metadata": {},
   "outputs": [],
   "source": [
    "# Context managers are great tool for resource management\n",
    "# It allows us to allocate and release resources precisely when we want to.\n",
    "# One good example is 'with'\n",
    "\n",
    "with open ('notes.txt', 'w') as file:\n",
    "    file.write('some to do...')\n",
    "    \n",
    "# below lines of code also do the same thing but with much complexity\n",
    "file = open('notes.txt', 'w')\n",
    "try:\n",
    "    file.write('some to do..')\n",
    "finally:\n",
    "    file.close()\n",
    "    \n"
   ]
  },
  {
   "cell_type": "code",
   "execution_count": 4,
   "metadata": {},
   "outputs": [
    {
     "name": "stdout",
     "output_type": "stream",
     "text": [
      "init\n",
      "enter\n",
      "do some stuff...\n",
      "Exception has been handled\n",
      "exit\n",
      "continuing\n"
     ]
    }
   ],
   "source": [
    "# Create a context manager: template\n",
    "class ManagedFile:\n",
    "    \n",
    "    def __init__(self, filename):\n",
    "        print('init')\n",
    "        self.filename = filename\n",
    "        \n",
    "    def __enter__(self):\n",
    "        print('enter')\n",
    "        self.file = open(self.filename, 'w')\n",
    "        return self.file\n",
    "    \n",
    "    def __exit__(self, exc_type, exc_value, exc_traceback):\n",
    "        if self.file:\n",
    "            self.file.close()\n",
    "        if exc_type is not None:\n",
    "            print('Exception has been handled')\n",
    "        print('exit')\n",
    "        return True\n",
    "        \n",
    "# To use this ManagedFile class as a context manager, we can say 'with ...'\n",
    "with ManagedFile('notes.txt') as file:\n",
    "    print('do some stuff...')\n",
    "    file.write('some to do...')\n",
    "    # Let's add some method that is not class methods\n",
    "    file.somemethod # there is no such method\n",
    "print('continuing')\n",
    "    \n",
    "# Now let's see what happen if an exception occurs\n"
   ]
  },
  {
   "cell_type": "code",
   "execution_count": null,
   "metadata": {},
   "outputs": [],
   "source": [
    "# We can also create a function to be context manager\n",
    "from contextlib import contextmanager\n",
    "\n",
    "@contextmanager\n",
    "def open_managed_file(filename):\n",
    "    f = open(filename, 'w')\n",
    "    try:\n",
    "        yield f\n",
    "    finally:\n",
    "        f.close()\n",
    "        \n",
    "with open_managed_file('notes.txt') as f:\n",
    "    f.write('some to do...')"
   ]
  }
 ],
 "metadata": {
  "kernelspec": {
   "display_name": "Python 3",
   "language": "python",
   "name": "python3"
  },
  "language_info": {
   "codemirror_mode": {
    "name": "ipython",
    "version": 3
   },
   "file_extension": ".py",
   "mimetype": "text/x-python",
   "name": "python",
   "nbconvert_exporter": "python",
   "pygments_lexer": "ipython3",
   "version": "3.7.7"
  }
 },
 "nbformat": 4,
 "nbformat_minor": 4
}
