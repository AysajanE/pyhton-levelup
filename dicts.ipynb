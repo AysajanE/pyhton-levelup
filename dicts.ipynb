{
 "cells": [
  {
   "cell_type": "code",
   "execution_count": 15,
   "metadata": {},
   "outputs": [
    {
     "name": "stdout",
     "output_type": "stream",
     "text": [
      "{'name': 'Aysajan', 'age': 35, 'city': 'London'}\n"
     ]
    }
   ],
   "source": [
    "# Dictionary: Key-Value pairs, Unordered, Mutable\n",
    "mydict = {\"name\": \"Aysajan\", \"age\": 35, \"city\": \"London\"}\n",
    "print(mydict)"
   ]
  },
  {
   "cell_type": "code",
   "execution_count": 2,
   "metadata": {},
   "outputs": [
    {
     "name": "stdout",
     "output_type": "stream",
     "text": [
      "{'name': 'Max', 'age': 28, 'city': 'New York'}\n"
     ]
    }
   ],
   "source": [
    "# Another way of creating a dictionary\n",
    "mydict2 = dict(name=\"Max\", age=28, city=\"New York\")\n",
    "print(mydict2)"
   ]
  },
  {
   "cell_type": "code",
   "execution_count": 3,
   "metadata": {},
   "outputs": [
    {
     "name": "stdout",
     "output_type": "stream",
     "text": [
      "Aysajan\n"
     ]
    }
   ],
   "source": [
    "# Access values\n",
    "value = mydict[\"name\"]\n",
    "print(value)"
   ]
  },
  {
   "cell_type": "code",
   "execution_count": 4,
   "metadata": {},
   "outputs": [
    {
     "ename": "KeyError",
     "evalue": "'lastname'",
     "output_type": "error",
     "traceback": [
      "\u001b[0;31m---------------------------------------------------------------------------\u001b[0m",
      "\u001b[0;31mKeyError\u001b[0m                                  Traceback (most recent call last)",
      "\u001b[0;32m<ipython-input-4-beb129ea40bb>\u001b[0m in \u001b[0;36m<module>\u001b[0;34m\u001b[0m\n\u001b[1;32m      1\u001b[0m \u001b[0;31m# Use a key that is not in the dictionary\u001b[0m\u001b[0;34m\u001b[0m\u001b[0;34m\u001b[0m\u001b[0;34m\u001b[0m\u001b[0m\n\u001b[1;32m      2\u001b[0m \u001b[0;31m# \"KeyError\"\u001b[0m\u001b[0;34m\u001b[0m\u001b[0;34m\u001b[0m\u001b[0;34m\u001b[0m\u001b[0m\n\u001b[0;32m----> 3\u001b[0;31m \u001b[0mvalue\u001b[0m \u001b[0;34m=\u001b[0m \u001b[0mmydict\u001b[0m\u001b[0;34m[\u001b[0m\u001b[0;34m\"lastname\"\u001b[0m\u001b[0;34m]\u001b[0m\u001b[0;34m\u001b[0m\u001b[0;34m\u001b[0m\u001b[0m\n\u001b[0m\u001b[1;32m      4\u001b[0m \u001b[0mprint\u001b[0m\u001b[0;34m(\u001b[0m\u001b[0mvalue\u001b[0m\u001b[0;34m)\u001b[0m\u001b[0;34m\u001b[0m\u001b[0;34m\u001b[0m\u001b[0m\n",
      "\u001b[0;31mKeyError\u001b[0m: 'lastname'"
     ]
    }
   ],
   "source": [
    "# Use a key that is not in the dictionary\n",
    "# \"KeyError\"\n",
    "value = mydict[\"lastname\"]\n",
    "print(value)"
   ]
  },
  {
   "cell_type": "code",
   "execution_count": 5,
   "metadata": {},
   "outputs": [
    {
     "name": "stdout",
     "output_type": "stream",
     "text": [
      "{'name': 'Aysajan', 'age': 35, 'city': 'London', 'email': 'aysajan@awesome.com'}\n"
     ]
    }
   ],
   "source": [
    " # Dictionary is mutable, so we can add, remove elements\n",
    "mydict[\"email\"] = \"aysajan@awesome.com\"\n",
    "print(mydict)"
   ]
  },
  {
   "cell_type": "code",
   "execution_count": 6,
   "metadata": {},
   "outputs": [
    {
     "name": "stdout",
     "output_type": "stream",
     "text": [
      "{'name': 'Aysajan', 'age': 35, 'city': 'London', 'email': 'coolaysajan@awesome.com'}\n"
     ]
    }
   ],
   "source": [
    "# new value overwrite original value for the same key\n",
    "mydict[\"email\"] = \"coolaysajan@awesome.com\"\n",
    "print(mydict)"
   ]
  },
  {
   "cell_type": "code",
   "execution_count": 13,
   "metadata": {},
   "outputs": [
    {
     "name": "stdout",
     "output_type": "stream",
     "text": [
      "{'age': 35, 'city': 'London'}\n",
      "{'city': 'London'}\n",
      "{}\n"
     ]
    }
   ],
   "source": [
    "# Deleting an element, several methods\n",
    "# Approach 1: \"del\"\n",
    "del mydict[\"name\"]\n",
    "print(mydict)\n",
    "# Approach 2: \"pop\"\n",
    "mydict.pop(\"age\")\n",
    "print(mydict)\n",
    "# Approach 3: \"popitem\" removes the last element\n",
    "mydict.popitem()\n",
    "print(mydict)"
   ]
  },
  {
   "cell_type": "code",
   "execution_count": 17,
   "metadata": {},
   "outputs": [
    {
     "name": "stdout",
     "output_type": "stream",
     "text": [
      "Aysajan\n",
      "Aysajan\n",
      "Error\n"
     ]
    }
   ],
   "source": [
    "# Check if an element is inside a dictionary\n",
    "if \"name\" in mydict:\n",
    "    print(mydict[\"name\"])\n",
    "    \n",
    "# Another approach for checking\n",
    "try:\n",
    "    print(mydict[\"name\"])\n",
    "except:\n",
    "    print(\"Error\")\n",
    "    \n",
    "try:\n",
    "    print(mydict[\"lastname\"])\n",
    "except:\n",
    "    print(\"Error\")"
   ]
  },
  {
   "cell_type": "code",
   "execution_count": 20,
   "metadata": {},
   "outputs": [
    {
     "name": "stdout",
     "output_type": "stream",
     "text": [
      "name\n",
      "age\n",
      "city\n",
      "name\n",
      "age\n",
      "city\n",
      "Aysajan\n",
      "35\n",
      "London\n",
      "name Aysajan\n",
      "age 35\n",
      "city London\n"
     ]
    }
   ],
   "source": [
    "# Loop through keys\n",
    "for key in mydict:\n",
    "    print(key)\n",
    "\n",
    "# mydict.keys return a list with keys in the dictionary\n",
    "for key in mydict.keys():\n",
    "    print(key)\n",
    "    \n",
    "for value in mydict.values():\n",
    "    print(value)\n",
    "    \n",
    "for key, value in mydict.items():\n",
    "    print(key, value)"
   ]
  },
  {
   "cell_type": "code",
   "execution_count": 23,
   "metadata": {},
   "outputs": [
    {
     "name": "stdout",
     "output_type": "stream",
     "text": [
      "{'name': 'Aysajan', 'age': 35, 'city': 'London', 'email': 'aysajan@xyz.com'}\n",
      "{'name': 'Aysajan', 'age': 35, 'city': 'London', 'email': 'aysajan@xyz.com'}\n",
      "{'name': 'Aysajan', 'age': 35, 'city': 'London', 'email': 'aysajan@xyz.com'}\n",
      "{'name': 'Aysajan', 'age': 35, 'city': 'London', 'email': 'aysajan@xyz.com'}\n"
     ]
    }
   ],
   "source": [
    "# Copy a dictionary, similar to a list, have to be careful\n",
    "mydict_cpy = mydict # with this assignment, both dictionaries are pointing to the same dictionary inside memory\n",
    "mydict_cpy[\"email\"] = \"aysajan@xyz.com\"\n",
    "print(mydict_cpy)\n",
    "print(mydict)\n",
    "\n",
    "# Right way of copying\n",
    "mydict_cpy = mydict.copy()\n",
    "print(mydict_cpy)\n",
    "mydict_cpy = dict(mydict)\n",
    "print(mydict_cpy)"
   ]
  },
  {
   "cell_type": "code",
   "execution_count": 24,
   "metadata": {},
   "outputs": [
    {
     "name": "stdout",
     "output_type": "stream",
     "text": [
      "{'name': 'Mary', 'age': 27, 'email': 'aysajan@xyz.com', 'city': 'Boston'}\n"
     ]
    }
   ],
   "source": [
    "# Merge dictionaries\n",
    "my_dict = {\"name\":\"Max\", \"age\":28, \"email\":\"aysajan@xyz.com\"}\n",
    "my_dict_2 = dict(name=\"Mary\", age=27, city=\"Boston\")\n",
    "\n",
    "my_dict.update(my_dict_2)\n",
    "print(my_dict)"
   ]
  },
  {
   "cell_type": "code",
   "execution_count": 25,
   "metadata": {},
   "outputs": [
    {
     "name": "stdout",
     "output_type": "stream",
     "text": [
      "{(8, 7): 15}\n"
     ]
    }
   ],
   "source": [
    "# We can use tuple for a key\n",
    "mytuple = (8, 7)\n",
    "mydict = {mytuple: 15}\n",
    "print(mydict)"
   ]
  },
  {
   "cell_type": "code",
   "execution_count": null,
   "metadata": {},
   "outputs": [],
   "source": []
  }
 ],
 "metadata": {
  "kernelspec": {
   "display_name": "Python 3",
   "language": "python",
   "name": "python3"
  },
  "language_info": {
   "codemirror_mode": {
    "name": "ipython",
    "version": 3
   },
   "file_extension": ".py",
   "mimetype": "text/x-python",
   "name": "python",
   "nbconvert_exporter": "python",
   "pygments_lexer": "ipython3",
   "version": "3.7.7"
  }
 },
 "nbformat": 4,
 "nbformat_minor": 4
}
