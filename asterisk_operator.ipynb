{
 "cells": [
  {
   "cell_type": "code",
   "execution_count": 1,
   "metadata": {},
   "outputs": [
    {
     "name": "stdout",
     "output_type": "stream",
     "text": [
      "35\n"
     ]
    }
   ],
   "source": [
    "# Usage of \"*\"\n",
    "#1: Multiplication\n",
    "result = 5 * 7\n",
    "print(result)"
   ]
  },
  {
   "cell_type": "code",
   "execution_count": 2,
   "metadata": {},
   "outputs": [
    {
     "name": "stdout",
     "output_type": "stream",
     "text": [
      "16\n"
     ]
    }
   ],
   "source": [
    "#2: Power operation\n",
    "result = 2 ** 4\n",
    "print(result)"
   ]
  },
  {
   "cell_type": "code",
   "execution_count": 4,
   "metadata": {},
   "outputs": [
    {
     "name": "stdout",
     "output_type": "stream",
     "text": [
      "[0, 0, 0, 0, 0, 0, 0, 0, 0, 0]\n",
      "[0, 1, 0, 1, 0, 1, 0, 1, 0, 1, 0, 1, 0, 1, 0, 1, 0, 1, 0, 1]\n"
     ]
    }
   ],
   "source": [
    "# Create repeated elements in a list, tuple\n",
    "zeros = [0] * 10\n",
    "print(zeros)\n",
    "\n",
    "zero_one = [0, 1] * 10\n",
    "print(zero_one)"
   ]
  },
  {
   "cell_type": "code",
   "execution_count": 5,
   "metadata": {},
   "outputs": [
    {
     "name": "stdout",
     "output_type": "stream",
     "text": [
      "1 2\n",
      "3\n",
      "4\n",
      "5\n",
      "six 6\n",
      "seven 7\n"
     ]
    }
   ],
   "source": [
    "# *args: as many positional arguments as we like\n",
    "# **kwargs: as many keyword arguments as we like\n",
    "\n",
    "def foo(a, b, *args, **kwargs):\n",
    "    print(a, b)\n",
    "    for arg in args:\n",
    "        print(arg)\n",
    "    for key in kwargs:\n",
    "        print(key, kwargs[key])\n",
    "        \n",
    "foo(1, 2, 3, 4, 5, six=6, seven=7)"
   ]
  },
  {
   "cell_type": "code",
   "execution_count": 6,
   "metadata": {},
   "outputs": [
    {
     "name": "stdout",
     "output_type": "stream",
     "text": [
      "1 2 3\n"
     ]
    }
   ],
   "source": [
    "# All parameters after the star are keyword parameters\n",
    "\n",
    "def foo(a, b, *, c):\n",
    "    print(a, b, c)\n",
    "        \n",
    "foo(1, 2, c=3)"
   ]
  },
  {
   "cell_type": "code",
   "execution_count": 8,
   "metadata": {},
   "outputs": [
    {
     "name": "stdout",
     "output_type": "stream",
     "text": [
      "0 1 2\n",
      "1 2 3\n"
     ]
    }
   ],
   "source": [
    "# Unpack a list\n",
    "def foo(a, b, c):\n",
    "    print(a, b, c)\n",
    "    \n",
    "my_list = [0, 1, 2]\n",
    "# Number of elements in the list must match the number of parameters of the function\n",
    "foo(*my_list)\n",
    "\n",
    "my_dict = {'a': 1, 'b': 2, 'c': 3}\n",
    "# keys must match the name of the parameters; the number of elements must match the number of parameters\n",
    "# Also, use two stars\n",
    "foo(**my_dict)"
   ]
  },
  {
   "cell_type": "code",
   "execution_count": 10,
   "metadata": {},
   "outputs": [
    {
     "name": "stdout",
     "output_type": "stream",
     "text": [
      "[1, 2, 3, 4, 5]\n",
      "6\n",
      "1\n",
      "[2, 3, 4, 5, 6]\n"
     ]
    }
   ],
   "source": [
    "# Unpack a list\n",
    "numbers = [1, 2, 3, 4, 5, 6]\n",
    "\n",
    "*beginning, last = numbers\n",
    "print(beginning)\n",
    "print(last)\n",
    "\n",
    "beginning, *last = numbers\n",
    "print(beginning)\n",
    "print(last)"
   ]
  },
  {
   "cell_type": "code",
   "execution_count": 13,
   "metadata": {},
   "outputs": [
    {
     "name": "stdout",
     "output_type": "stream",
     "text": [
      "[1, 2, 3, 4, 5, 6]\n",
      "[1, 2, 3, 8, 9, 7]\n"
     ]
    }
   ],
   "source": [
    "# Merge list, tuple, and sets to a list\n",
    "my_tuple = (1, 2, 3)\n",
    "my_list = [4, 5, 6]\n",
    "my_set = {7, 8, 9}\n",
    "\n",
    "new_list = [*my_tuple, *my_list]\n",
    "print(new_list)\n",
    "\n",
    "new_list = [*my_tuple, *my_set]\n",
    "print(new_list)"
   ]
  },
  {
   "cell_type": "code",
   "execution_count": 14,
   "metadata": {},
   "outputs": [
    {
     "name": "stdout",
     "output_type": "stream",
     "text": [
      "{'a': 1, 'b': 2, 'c': 4, 'd': 3}\n"
     ]
    }
   ],
   "source": [
    "# Merge multiple dictionaries to a single dictionary\n",
    "dict_a = {'a': 1, 'b': 2}\n",
    "dict_b = {'c': 4, 'd': 3}\n",
    "\n",
    "my_dict = {**dict_a, **dict_b}\n",
    "print(my_dict)"
   ]
  },
  {
   "cell_type": "code",
   "execution_count": null,
   "metadata": {},
   "outputs": [],
   "source": []
  }
 ],
 "metadata": {
  "kernelspec": {
   "display_name": "Python 3",
   "language": "python",
   "name": "python3"
  },
  "language_info": {
   "codemirror_mode": {
    "name": "ipython",
    "version": 3
   },
   "file_extension": ".py",
   "mimetype": "text/x-python",
   "name": "python",
   "nbconvert_exporter": "python",
   "pygments_lexer": "ipython3",
   "version": "3.7.7"
  }
 },
 "nbformat": 4,
 "nbformat_minor": 4
}
