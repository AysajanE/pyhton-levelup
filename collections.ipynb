{
 "cells": [
  {
   "cell_type": "code",
   "execution_count": 16,
   "metadata": {},
   "outputs": [
    {
     "name": "stdout",
     "output_type": "stream",
     "text": [
      "Counter({'c': 9, 'a': 6, 'd': 5, 'b': 3})\n",
      "dict_items([('a', 6), ('b', 3), ('c', 9), ('d', 5)])\n",
      "dict_keys(['a', 'b', 'c', 'd'])\n",
      "dict_values([6, 3, 9, 5])\n",
      "[('c', 9)]\n",
      "[('c', 9), ('a', 6)]\n",
      "c\n"
     ]
    }
   ],
   "source": [
    "# Collections: Counter, namedtuple, OrderedDict, defaultdict, deque\n",
    "from collections import Counter, namedtuple, OrderedDict, defaultdict, deque\n",
    "a = \"aaaaaabbbcccccccccddddd\"\n",
    "my_counter = Counter(a)\n",
    "print(my_counter)\n",
    "print(my_counter.items())\n",
    "print(my_counter.keys())\n",
    "print(my_counter.values())\n",
    "\n",
    "# Find most common element in the counter dictionary\n",
    "print(my_counter.most_common(1))\n",
    "# Find two most common elements\n",
    "print(my_counter.most_common(2)) # return a list with tuples in it\n",
    "# If we want to find the most common element itself from the tuple returned, we can do\n",
    "print(my_counter.most_common(2)[0][0])"
   ]
  },
  {
   "cell_type": "code",
   "execution_count": 12,
   "metadata": {},
   "outputs": [
    {
     "name": "stdout",
     "output_type": "stream",
     "text": [
      "<itertools.chain object at 0x10c1eba50>\n",
      "['a', 'a', 'a', 'a', 'a', 'a', 'b', 'b', 'b', 'c', 'c', 'c', 'c', 'c', 'c', 'c', 'c', 'c', 'd', 'd', 'd', 'd', 'd']\n"
     ]
    }
   ],
   "source": [
    "# We can also have a list of all different elements\n",
    "print(my_counter.elements()) #return an iterable over elements\n",
    "# Use 'list' to print out nicely\n",
    "print(list(my_counter.elements()))"
   ]
  },
  {
   "cell_type": "code",
   "execution_count": 13,
   "metadata": {},
   "outputs": [
    {
     "name": "stdout",
     "output_type": "stream",
     "text": [
      "Point(x=1, y=-4)\n",
      "1 -4\n"
     ]
    }
   ],
   "source": [
    "# namedtuple\n",
    "# Create a namedtuple \"Point\" with two fields\n",
    "Point = namedtuple('Point', 'x,y') #usually the name on the LHS is the same as the first argument of namedtuple\n",
    "pt = Point(1, -4)\n",
    "print(pt)\n",
    "print(pt.x, pt.y)"
   ]
  },
  {
   "cell_type": "code",
   "execution_count": 15,
   "metadata": {},
   "outputs": [
    {
     "name": "stdout",
     "output_type": "stream",
     "text": [
      "OrderedDict([('a', 1), ('b', 2), ('c', 3), ('d', 4)])\n",
      "OrderedDict([('b', 2), ('c', 3), ('d', 4), ('a', 1)])\n"
     ]
    }
   ],
   "source": [
    "# OrderedDict, remembers the order we entered\n",
    "# Its usage is gradually outdated since the regular dictionary in Python3 by default remembers order as well.\n",
    "ordered_dict = OrderedDict()\n",
    "ordered_dict['a'] = 1\n",
    "ordered_dict['b'] = 2\n",
    "ordered_dict['c'] = 3\n",
    "ordered_dict['d'] = 4\n",
    "print(ordered_dict)\n",
    "\n",
    "ordered_dict = OrderedDict()\n",
    "ordered_dict['b'] = 2\n",
    "ordered_dict['c'] = 3\n",
    "ordered_dict['d'] = 4\n",
    "ordered_dict['a'] = 1\n",
    "print(ordered_dict)"
   ]
  },
  {
   "cell_type": "code",
   "execution_count": 18,
   "metadata": {},
   "outputs": [
    {
     "name": "stdout",
     "output_type": "stream",
     "text": [
      "defaultdict(<class 'int'>, {'a': 1, 'b': 2})\n",
      "0\n"
     ]
    }
   ],
   "source": [
    "# defaultdict vs. regular dictionary\n",
    "# The only difference: defaultdict has default type whose values have not been set up yet\n",
    "d = defaultdict(int)\n",
    "d['a'] = 1\n",
    "d['b'] = 2\n",
    "print(d)\n",
    "# Default value for int is zero, so if we want to access a value for a key that is not in the dictionary:\n",
    "print(d['c']) # returns zero"
   ]
  },
  {
   "cell_type": "code",
   "execution_count": 29,
   "metadata": {},
   "outputs": [
    {
     "name": "stdout",
     "output_type": "stream",
     "text": [
      "deque([1, 2])\n",
      "deque([3, 1, 2])\n",
      "deque([3, 1])\n",
      "deque([1])\n",
      "deque([])\n",
      "deque([4, 5, 6, 7])\n",
      "deque([12, 11, 10, 4, 5, 6, 7])\n",
      "deque([6, 7, 12, 11, 10, 4, 5])\n"
     ]
    }
   ],
   "source": [
    "# deque: double ended queue, and it can be used to elements from both ends\n",
    "d = deque()\n",
    "\n",
    "d.append(1)\n",
    "d.append(2)\n",
    "print(d)\n",
    "\n",
    "d.appendleft(3)\n",
    "print(d)\n",
    "\n",
    "d.pop() #remove last element\n",
    "print(d)\n",
    "\n",
    "d.popleft() # remove first element\n",
    "print(d)\n",
    "\n",
    "d.clear() # remove all elements\n",
    "print(d)\n",
    "\n",
    "# Extend elements on the right side\n",
    "d.extend([4, 5, 6, 7])\n",
    "print(d)\n",
    "\n",
    "d.extendleft([10, 11, 12])\n",
    "print(d)\n",
    "\n",
    "# Rotate our deque\n",
    "d.rotate(2) # rotate all elements one place to the right\n",
    "print(d)"
   ]
  },
  {
   "cell_type": "code",
   "execution_count": null,
   "metadata": {},
   "outputs": [],
   "source": []
  }
 ],
 "metadata": {
  "kernelspec": {
   "display_name": "Python 3",
   "language": "python",
   "name": "python3"
  },
  "language_info": {
   "codemirror_mode": {
    "name": "ipython",
    "version": 3
   },
   "file_extension": ".py",
   "mimetype": "text/x-python",
   "name": "python",
   "nbconvert_exporter": "python",
   "pygments_lexer": "ipython3",
   "version": "3.7.7"
  }
 },
 "nbformat": 4,
 "nbformat_minor": 4
}
