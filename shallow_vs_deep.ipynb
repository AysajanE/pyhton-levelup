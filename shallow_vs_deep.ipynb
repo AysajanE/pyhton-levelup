{
 "cells": [
  {
   "cell_type": "code",
   "execution_count": null,
   "metadata": {},
   "outputs": [],
   "source": [
    "# shallow copy: one level deep, only references of nested child objects\n",
    "# deep copy: full independent copy"
   ]
  },
  {
   "cell_type": "code",
   "execution_count": 1,
   "metadata": {},
   "outputs": [
    {
     "name": "stdout",
     "output_type": "stream",
     "text": [
      "6\n",
      "5\n"
     ]
    }
   ],
   "source": [
    "# In this example, since integer type is immutable, we don't have any problem\n",
    "org = 5\n",
    "cpy = org # this will not make a real copy. It only creates a new variable with the same reference\n",
    "cpy = 6\n",
    "print(cpy)\n",
    "print(org)"
   ]
  },
  {
   "cell_type": "code",
   "execution_count": 2,
   "metadata": {},
   "outputs": [
    {
     "name": "stdout",
     "output_type": "stream",
     "text": [
      "[-10, 1, 2, 3, 4, 5]\n",
      "[-10, 1, 2, 3, 4, 5]\n"
     ]
    }
   ],
   "source": [
    "# But when we work with list, we have to be careful since list is mutable\n",
    "org = [0, 1, 2, 3, 4, 5]\n",
    "cpy = org\n",
    "# Let's change first element to be -10, this will change both cpy and org\n",
    "cpy[0] = -10\n",
    "\n",
    "print(org)\n",
    "print(cpy)"
   ]
  },
  {
   "cell_type": "code",
   "execution_count": 3,
   "metadata": {},
   "outputs": [
    {
     "name": "stdout",
     "output_type": "stream",
     "text": [
      "[-100, 1, 2, 3, 4]\n",
      "[0, 1, 2, 3, 4]\n"
     ]
    }
   ],
   "source": [
    "# Let's start with shallow copy\n",
    "import copy\n",
    "\n",
    "org = [0, 1, 2, 3, 4]\n",
    "\n",
    "cpy = copy.copy(org) # Approach #1\n",
    "cpy = org.copy() # Approach #2\n",
    "cpy = list(org) # Approach #3\n",
    "cpy = org[:] # Approach #4\n",
    "cpy[0] = -100\n",
    "\n",
    "print(cpy)\n",
    "print(org)"
   ]
  },
  {
   "cell_type": "code",
   "execution_count": 4,
   "metadata": {},
   "outputs": [
    {
     "name": "stdout",
     "output_type": "stream",
     "text": [
      "[[1, -10, 3, 4], [5, 6, 7, 8]]\n",
      "[[1, -10, 3, 4], [5, 6, 7, 8]]\n"
     ]
    }
   ],
   "source": [
    "# Above example works fine since the list is one dimentional and shallow copy only needs to go to one level deep\n",
    "# But when we have two or more dimensional list, it won't work\n",
    "\n",
    "org = [[1, 2, 3, 4], [5, 6, 7, 8]]\n",
    "cpy = copy.copy(org)\n",
    "cpy[0][1] = -10\n",
    "\n",
    "print(cpy)\n",
    "print(org)"
   ]
  },
  {
   "cell_type": "code",
   "execution_count": 5,
   "metadata": {},
   "outputs": [
    {
     "name": "stdout",
     "output_type": "stream",
     "text": [
      "[[1, -10, 3, 4], [5, 6, 7, 8]]\n",
      "[[1, 2, 3, 4], [5, 6, 7, 8]]\n"
     ]
    }
   ],
   "source": [
    "# In order to have a deep copy, we need to use 'deepcopy'\n",
    "\n",
    "org = [[1, 2, 3, 4], [5, 6, 7, 8]]\n",
    "cpy = copy.deepcopy(org)\n",
    "cpy[0][1] = -10\n",
    "\n",
    "print(cpy)\n",
    "print(org)"
   ]
  },
  {
   "cell_type": "code",
   "execution_count": 7,
   "metadata": {},
   "outputs": [
    {
     "name": "stdout",
     "output_type": "stream",
     "text": [
      "28\n",
      "28\n",
      "28\n",
      "27\n"
     ]
    }
   ],
   "source": [
    "class Person:\n",
    "    \n",
    "    def __init__(self, name, age):\n",
    "        self.name = name\n",
    "        self.age = age\n",
    "        \n",
    "p1 = Person('Alex', 27)\n",
    "p2 = p1\n",
    "\n",
    "p2.age = 28\n",
    "\n",
    "# Both p1 and p2 got affected\n",
    "print(p2.age)\n",
    "print(p1.age)\n",
    "\n",
    "# So, we can use copy\n",
    "p1 = Person('Alex', 27)\n",
    "p2 = copy.copy(p1)\n",
    "\n",
    "p2.age = 28\n",
    "print(p2.age)\n",
    "print(p1.age)"
   ]
  },
  {
   "cell_type": "code",
   "execution_count": 9,
   "metadata": {},
   "outputs": [
    {
     "name": "stdout",
     "output_type": "stream",
     "text": [
      "56\n",
      "56\n",
      "58\n",
      "56\n"
     ]
    }
   ],
   "source": [
    "class Person:\n",
    "    \n",
    "    def __init__(self, name, age):\n",
    "        self.name = name\n",
    "        self.age = age\n",
    "\n",
    "class Company:\n",
    "    \n",
    "    def __init__(self, boss, employee):\n",
    "        self.boss = boss\n",
    "        self.employee = employee\n",
    "        \n",
    "p1 = Person('Alex', 55)\n",
    "p2 = Person('Joe', 27)\n",
    "\n",
    "company = Company(p1, p2)\n",
    "# Shallow copy\n",
    "company_clone = copy.copy(company)\n",
    "\n",
    "company_clone.boss.age = 56\n",
    "\n",
    "# Again, both ages will change\n",
    "print(company_clone.boss.age)\n",
    "print(company.boss.age)\n",
    "\n",
    "# In order to make it independent, we need to use 'deepcopy'\n",
    "\n",
    "company = Company(p1, p2)\n",
    "company_clone = copy.deepcopy(company)\n",
    "\n",
    "company_clone.boss.age = 58\n",
    "\n",
    "print(company_clone.boss.age)\n",
    "print(company.boss.age)"
   ]
  },
  {
   "cell_type": "code",
   "execution_count": null,
   "metadata": {},
   "outputs": [],
   "source": []
  }
 ],
 "metadata": {
  "kernelspec": {
   "display_name": "Python 3",
   "language": "python",
   "name": "python3"
  },
  "language_info": {
   "codemirror_mode": {
    "name": "ipython",
    "version": 3
   },
   "file_extension": ".py",
   "mimetype": "text/x-python",
   "name": "python",
   "nbconvert_exporter": "python",
   "pygments_lexer": "ipython3",
   "version": "3.7.7"
  }
 },
 "nbformat": 4,
 "nbformat_minor": 4
}
