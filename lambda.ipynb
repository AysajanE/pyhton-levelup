{
 "cells": [
  {
   "cell_type": "code",
   "execution_count": 1,
   "metadata": {},
   "outputs": [
    {
     "name": "stdout",
     "output_type": "stream",
     "text": [
      "15\n"
     ]
    }
   ],
   "source": [
    "# lambda function is small one-line anonymous function that is defined without a name\n",
    "# lambda arguments: expression\n",
    "\n",
    "# One argument lambda function\n",
    "add10 = lambda x: x + 10\n",
    "print(add10(5))\n",
    "\n",
    "# Do the same thing as:\n",
    "def add_func(x):\n",
    "    return x + 10"
   ]
  },
  {
   "cell_type": "code",
   "execution_count": 2,
   "metadata": {},
   "outputs": [
    {
     "name": "stdout",
     "output_type": "stream",
     "text": [
      "20\n"
     ]
    }
   ],
   "source": [
    "# multi arguments lambda function\n",
    "mult = lambda x,y: x*y\n",
    "print(mult(4, 5))"
   ]
  },
  {
   "cell_type": "code",
   "execution_count": 5,
   "metadata": {},
   "outputs": [
    {
     "name": "stdout",
     "output_type": "stream",
     "text": [
      "[(1, 2), (15, 1), (5, -1), (10, 4)]\n",
      "[(1, 2), (5, -1), (10, 4), (15, 1)]\n",
      "[(1, 2), (15, 1), (5, -1), (10, 4)]\n",
      "[(5, -1), (15, 1), (1, 2), (10, 4)]\n",
      "[(1, 2), (5, -1), (10, 4), (15, 1)]\n"
     ]
    }
   ],
   "source": [
    "# sorted function with lambda function as argument\n",
    "points2D = [(1, 2), (15, 1), (5, -1), (10, 4)]\n",
    "points2D_sorted = sorted(points2D)\n",
    "print(points2D)\n",
    "print(points2D_sorted) # sort accoridng to the x index in each tuple inside the list\n",
    "\n",
    "# Now we can use lambda function to sort the list according to y index\n",
    "points2D_sorted = sorted(points2D, key=lambda x: x[1])\n",
    "print(points2D)\n",
    "print(points2D_sorted)\n",
    "\n",
    "# Now let's sort according to the sum (x+y) of each element in the list\n",
    "points2D_sorted = sorted(points2D, key=lambda x: x[0]+x[1])\n",
    "print(points2D_sorted)"
   ]
  },
  {
   "cell_type": "code",
   "execution_count": 6,
   "metadata": {},
   "outputs": [
    {
     "name": "stdout",
     "output_type": "stream",
     "text": [
      "<map object at 0x111838b10>\n",
      "[2, 4, 6, 8, 10]\n",
      "[2, 4, 6, 8, 10]\n"
     ]
    }
   ],
   "source": [
    "# map function with lambda as argument\n",
    "# map(func, seq)\n",
    "a = [1, 2, 3, 4, 5]\n",
    "b = map(lambda x: x*2, a)\n",
    "print(b)\n",
    "print(list(b))\n",
    "\n",
    "# We can achieve the same thing with list comprehension\n",
    "b = [x*2 for x in a]\n",
    "print(b)"
   ]
  },
  {
   "cell_type": "code",
   "execution_count": 7,
   "metadata": {},
   "outputs": [
    {
     "name": "stdout",
     "output_type": "stream",
     "text": [
      "[2, 4, 6]\n",
      "[2, 4, 6]\n"
     ]
    }
   ],
   "source": [
    "# filter function with lambda as argument\n",
    "# filter(func, seq)\n",
    "a = [1, 2, 3, 4, 5, 6]\n",
    "b = filter(lambda x: x%2==0, a)\n",
    "print(list(b))\n",
    "\n",
    "# Can do the same thing with list comprehension\n",
    "c = [x for x in a if x%2==0]\n",
    "print(c)\n"
   ]
  },
  {
   "cell_type": "code",
   "execution_count": 8,
   "metadata": {},
   "outputs": [
    {
     "name": "stdout",
     "output_type": "stream",
     "text": [
      "24\n"
     ]
    }
   ],
   "source": [
    "# reduce function with lambda as argument\n",
    "# reduce(func, seq)\n",
    "from functools import reduce\n",
    "a = [1, 2, 3, 4]\n",
    "\n",
    "product_a = reduce(lambda x,y: x*y, a) # for reduce function, lambda function takes two arguments\n",
    "print(product_a)"
   ]
  },
  {
   "cell_type": "code",
   "execution_count": null,
   "metadata": {},
   "outputs": [],
   "source": []
  }
 ],
 "metadata": {
  "kernelspec": {
   "display_name": "Python 3",
   "language": "python",
   "name": "python3"
  },
  "language_info": {
   "codemirror_mode": {
    "name": "ipython",
    "version": 3
   },
   "file_extension": ".py",
   "mimetype": "text/x-python",
   "name": "python",
   "nbconvert_exporter": "python",
   "pygments_lexer": "ipython3",
   "version": "3.7.7"
  }
 },
 "nbformat": 4,
 "nbformat_minor": 4
}
