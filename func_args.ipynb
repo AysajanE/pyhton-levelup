{
 "cells": [
  {
   "cell_type": "code",
   "execution_count": null,
   "metadata": {},
   "outputs": [],
   "source": [
    "\"\"\"\n",
    "-- The difference between arguments and parameters\n",
    "-- Positional and keyword arguments\n",
    "-- Default arguments\n",
    "-- Variable-length arguments (*args and **kwargs)\n",
    "-- Container unpacking into function arguments\n",
    "-- Local vs. global arguments\n",
    "-- Parameter passing (by value or by reference?)\n",
    "\"\"\""
   ]
  },
  {
   "cell_type": "code",
   "execution_count": 1,
   "metadata": {},
   "outputs": [
    {
     "name": "stdout",
     "output_type": "stream",
     "text": [
      "Alex\n"
     ]
    }
   ],
   "source": [
    "# Here 'name' is the parameter of the function\n",
    "def print_name(name):\n",
    "    print(name)\n",
    "    \n",
    "# When we call the function, the value we provide for 'name' is argument of the fucntion\n",
    "# Here, 'Alex' is the argument\n",
    "print('Alex')"
   ]
  },
  {
   "cell_type": "code",
   "execution_count": 5,
   "metadata": {},
   "outputs": [
    {
     "ename": "SyntaxError",
     "evalue": "positional argument follows keyword argument (<ipython-input-5-4097aa0c0410>, line 16)",
     "output_type": "error",
     "traceback": [
      "\u001b[0;36m  File \u001b[0;32m\"<ipython-input-5-4097aa0c0410>\"\u001b[0;36m, line \u001b[0;32m16\u001b[0m\n\u001b[0;31m    foo(1, b=2, 3)\u001b[0m\n\u001b[0m               ^\u001b[0m\n\u001b[0;31mSyntaxError\u001b[0m\u001b[0;31m:\u001b[0m positional argument follows keyword argument\n"
     ]
    }
   ],
   "source": [
    "# Positional and keyword arguments\n",
    "# Positional argument example:\n",
    "def foo(a, b, c):\n",
    "    print(a, b, c)\n",
    "\n",
    "# Use positional argument, order matters\n",
    "foo(1, 2, 3)\n",
    "# Use keyword argument, order does not matter\n",
    "foo(a=1, c=3, b=2)\n",
    "\n",
    "# We can mix them\n",
    "foo(1, b=2, c=3)\n",
    "\n",
    "# But we can't use positional arguments after keyword arguments\n",
    "# The below will raise error\n",
    "foo(1, b=2, 3)"
   ]
  },
  {
   "cell_type": "code",
   "execution_count": 7,
   "metadata": {},
   "outputs": [
    {
     "name": "stdout",
     "output_type": "stream",
     "text": [
      "1 2 3 4\n",
      "1 2 3 7\n"
     ]
    }
   ],
   "source": [
    "# We can add default argument, and it must be at the end of our function parameters\n",
    "def foo(a, b, c, d=4):\n",
    "    print(a, b, c, d)\n",
    "    \n",
    "foo(1, 2, 3)\n",
    "\n",
    "foo(1, 2, 3, 7)"
   ]
  },
  {
   "cell_type": "code",
   "execution_count": 10,
   "metadata": {},
   "outputs": [
    {
     "name": "stdout",
     "output_type": "stream",
     "text": [
      "1 2\n",
      "3\n",
      "4\n",
      "5\n",
      "six 6\n",
      "seven 7\n"
     ]
    }
   ],
   "source": [
    "# variable-length arguments, i.e., the length of the arguments are not specified\n",
    "# with \"*args\" we can pass any number of positional arguments to our function\n",
    "# with \"**kwargs\" we can pass any number of keyword arguments to our function\n",
    "# The names do not need to be \"args\" and \"kwargs\".\n",
    "def foo(a, b, *args, **kwargs):\n",
    "    print(a, b)\n",
    "    for arg in args:\n",
    "        print(arg)\n",
    "    for key in kwargs:\n",
    "        print(key, kwargs[key])\n",
    "        \n",
    "foo(1, 2, 3, 4, 5, six=6, seven=7)"
   ]
  },
  {
   "cell_type": "code",
   "execution_count": 12,
   "metadata": {},
   "outputs": [
    {
     "ename": "TypeError",
     "evalue": "foo() takes 2 positional arguments but 4 were given",
     "output_type": "error",
     "traceback": [
      "\u001b[0;31m---------------------------------------------------------------------------\u001b[0m",
      "\u001b[0;31mTypeError\u001b[0m                                 Traceback (most recent call last)",
      "\u001b[0;32m<ipython-input-12-c5957021d2fb>\u001b[0m in \u001b[0;36m<module>\u001b[0;34m\u001b[0m\n\u001b[1;32m      5\u001b[0m \u001b[0;34m\u001b[0m\u001b[0m\n\u001b[1;32m      6\u001b[0m \u001b[0;31m# below will generate an error since c, d are not keyword argument as required\u001b[0m\u001b[0;34m\u001b[0m\u001b[0;34m\u001b[0m\u001b[0;34m\u001b[0m\u001b[0m\n\u001b[0;32m----> 7\u001b[0;31m \u001b[0mfoo\u001b[0m\u001b[0;34m(\u001b[0m\u001b[0;36m1\u001b[0m\u001b[0;34m,\u001b[0m \u001b[0;36m2\u001b[0m\u001b[0;34m,\u001b[0m \u001b[0;36m3\u001b[0m\u001b[0;34m,\u001b[0m \u001b[0;36m4\u001b[0m\u001b[0;34m)\u001b[0m\u001b[0;34m\u001b[0m\u001b[0;34m\u001b[0m\u001b[0m\n\u001b[0m\u001b[1;32m      8\u001b[0m \u001b[0;31m# We can fix this\u001b[0m\u001b[0;34m\u001b[0m\u001b[0;34m\u001b[0m\u001b[0;34m\u001b[0m\u001b[0m\n\u001b[1;32m      9\u001b[0m \u001b[0mfoo\u001b[0m\u001b[0;34m(\u001b[0m\u001b[0;36m1\u001b[0m\u001b[0;34m,\u001b[0m \u001b[0;36m2\u001b[0m\u001b[0;34m,\u001b[0m \u001b[0mc\u001b[0m\u001b[0;34m=\u001b[0m\u001b[0;36m3\u001b[0m\u001b[0;34m,\u001b[0m \u001b[0md\u001b[0m\u001b[0;34m=\u001b[0m\u001b[0;36m4\u001b[0m\u001b[0;34m)\u001b[0m\u001b[0;34m\u001b[0m\u001b[0;34m\u001b[0m\u001b[0m\n",
      "\u001b[0;31mTypeError\u001b[0m: foo() takes 2 positional arguments but 4 were given"
     ]
    }
   ],
   "source": [
    "# We can also have forced keyword arguments\n",
    "# Parameters after \"*\" must be a keyword argument\n",
    "def foo(a, b, *, c, d):\n",
    "    print(a, b, c, d)\n",
    "    \n",
    "# below will generate an error since c, d are not keyword argument as required\n",
    "foo(1, 2, 3, 4)\n",
    "# We can fix this\n",
    "foo(1, 2, c=3, d=4)"
   ]
  },
  {
   "cell_type": "code",
   "execution_count": 13,
   "metadata": {},
   "outputs": [
    {
     "name": "stdout",
     "output_type": "stream",
     "text": [
      "1\n",
      "2\n",
      "3\n",
      "4\n"
     ]
    }
   ],
   "source": [
    "# arguments after \"*args\" are also keyword arguments\n",
    "def foo(*args, last):\n",
    "    for arg in args:\n",
    "        print(arg)\n",
    "    print(last)\n",
    "    \n",
    "foo(1, 2, 3, last=4)"
   ]
  },
  {
   "cell_type": "code",
   "execution_count": 15,
   "metadata": {},
   "outputs": [
    {
     "name": "stdout",
     "output_type": "stream",
     "text": [
      "0 1 2\n",
      "1 2 3\n"
     ]
    }
   ],
   "source": [
    "# Unpacking arguments\n",
    "def foo(a, b, c):\n",
    "    print(a, b, c)\n",
    "    \n",
    "my_list = [0, 1, 2]\n",
    "# \"*my_list\" will unpack first item into a, second item into b, etc\n",
    "# One condition: the length of container mush match the number of parameters of the function\n",
    "foo(*my_list)\n",
    "\n",
    "# We can use dictionary as well, but the keys have to be the same as the parameter names\n",
    "my_dict = {'a': 1, 'b': 2, 'c': 3}\n",
    "# We can unpack this dictionary as well, but we need to use \"**\" instead of \"*\"\n",
    "foo(**my_dict)"
   ]
  },
  {
   "cell_type": "code",
   "execution_count": 16,
   "metadata": {},
   "outputs": [
    {
     "name": "stdout",
     "output_type": "stream",
     "text": [
      "number inside function: 0\n"
     ]
    }
   ],
   "source": [
    "# Local vs. Global variable\n",
    "def foo():\n",
    "    x = number\n",
    "    print('number inside function:', x)\n",
    "    \n",
    "number = 0\n",
    "foo()"
   ]
  },
  {
   "cell_type": "code",
   "execution_count": 17,
   "metadata": {},
   "outputs": [
    {
     "name": "stdout",
     "output_type": "stream",
     "text": [
      "0\n"
     ]
    }
   ],
   "source": [
    "#Let's look at the following example:\n",
    "def foo():\n",
    "    # This number variable is local variable, and it only lives inside our function\n",
    "    number = 3\n",
    "\n",
    "# This 'number' variable is global variable\n",
    "number = 0\n",
    "foo()\n",
    "print(number)"
   ]
  },
  {
   "cell_type": "code",
   "execution_count": 18,
   "metadata": {},
   "outputs": [
    {
     "name": "stdout",
     "output_type": "stream",
     "text": [
      "3\n"
     ]
    }
   ],
   "source": [
    "# If we want to modify our global variable inside our function, we need to use 'global'\n",
    "def foo():\n",
    "    global number\n",
    "    number = 3\n",
    "\n",
    "# This 'number' variable is global variable\n",
    "number = 0\n",
    "foo()\n",
    "print(number)"
   ]
  },
  {
   "cell_type": "code",
   "execution_count": 21,
   "metadata": {},
   "outputs": [
    {
     "name": "stdout",
     "output_type": "stream",
     "text": [
      "10\n",
      "[1, 2, 3, 4]\n"
     ]
    }
   ],
   "source": [
    "# Immutable objects cannot be changed within a method; mutable objects can be changed within a method or function\n",
    "# Immutable objects contained in a mutable objects can be changed\n",
    "# \n",
    "def foo(x):\n",
    "    x = 5\n",
    "    \n",
    "var = 10 #immutable\n",
    "foo(var)\n",
    "print(var)\n",
    "\n",
    "# But list is mutable, so\n",
    "def foo(a_list):\n",
    "    a_list.append(4)\n",
    "    \n",
    "my_list = [1, 2, 3]\n",
    "foo(my_list) # my_list got modified\n",
    "print(my_list)"
   ]
  },
  {
   "cell_type": "code",
   "execution_count": null,
   "metadata": {},
   "outputs": [],
   "source": []
  }
 ],
 "metadata": {
  "kernelspec": {
   "display_name": "Python 3",
   "language": "python",
   "name": "python3"
  },
  "language_info": {
   "codemirror_mode": {
    "name": "ipython",
    "version": 3
   },
   "file_extension": ".py",
   "mimetype": "text/x-python",
   "name": "python",
   "nbconvert_exporter": "python",
   "pygments_lexer": "ipython3",
   "version": "3.7.7"
  }
 },
 "nbformat": 4,
 "nbformat_minor": 4
}
